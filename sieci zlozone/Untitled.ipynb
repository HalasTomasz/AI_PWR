{
 "cells": [
  {
   "cell_type": "code",
   "execution_count": 1,
   "id": "bf02b5f3-5000-4d41-b493-786438c657c1",
   "metadata": {
    "vscode": {
     "languageId": "r"
    }
   },
   "outputs": [
    {
     "name": "stderr",
     "output_type": "stream",
     "text": [
      "Warning message in install.packages(\"igraph\"):\n",
      "“installation of package ‘igraph’ had non-zero exit status”\n",
      "Updating HTML index of packages in '.Library'\n",
      "\n",
      "Making 'packages.html' ...\n",
      " done\n",
      "\n"
     ]
    }
   ],
   "source": [
    "install.packages(\"igraph\")"
   ]
  },
  {
   "cell_type": "code",
   "execution_count": 3,
   "id": "c67f0bc4",
   "metadata": {
    "vscode": {
     "languageId": "r"
    }
   },
   "outputs": [
    {
     "name": "stderr",
     "output_type": "stream",
     "text": [
      "Warning message in install.packages(update[instlib == l, \"Package\"], l, contriburl = contriburl, :\n",
      "“installation of package ‘curl’ had non-zero exit status”\n"
     ]
    }
   ],
   "source": [
    "update.packages(ask = FALSE)\n"
   ]
  },
  {
   "cell_type": "code",
   "execution_count": 2,
   "id": "da752b70-898a-481e-bce8-802e9fac4508",
   "metadata": {
    "vscode": {
     "languageId": "r"
    }
   },
   "outputs": [
    {
     "ename": "ERROR",
     "evalue": "Error in library(\"igraph\"): there is no package called ‘igraph’\n",
     "output_type": "error",
     "traceback": [
      "Error in library(\"igraph\"): there is no package called ‘igraph’\nTraceback:\n",
      "1. library(\"igraph\")"
     ]
    }
   ],
   "source": [
    "# Load conda environment\n",
    "library(\"IRkernel\")\n",
    "IRkernel::installspec()\n",
    "\n",
    "# Now you should be able to load igraph\n",
    "library(\"igraph\")\n"
   ]
  },
  {
   "cell_type": "code",
   "execution_count": 2,
   "id": "4c9d0b35-af70-4830-bb82-028b8bc10a57",
   "metadata": {
    "vscode": {
     "languageId": "r"
    }
   },
   "outputs": [
    {
     "ename": "ERROR",
     "evalue": "Error in parse(text = x, srcfile = src): <text>:1:5: unexpected symbol\n1: (a) Wygeneruj\n        ^\n",
     "output_type": "error",
     "traceback": [
      "Error in parse(text = x, srcfile = src): <text>:1:5: unexpected symbol\n1: (a) Wygeneruj\n        ^\nTraceback:\n"
     ]
    }
   ],
   "source": [
    "(a) Wygeneruj sieć Erdős-Rényi o N = 100 i p = 0.03,"
   ]
  },
  {
   "cell_type": "code",
   "execution_count": 4,
   "id": "96651ec5-80a1-417e-9483-5c5d16cbf471",
   "metadata": {
    "vscode": {
     "languageId": "r"
    }
   },
   "outputs": [
    {
     "ename": "ERROR",
     "evalue": "Error in erdos.renyi.game(100, 0.03, directed = FALSE): could not find function \"erdos.renyi.game\"\n",
     "output_type": "error",
     "traceback": [
      "Error in erdos.renyi.game(100, 0.03, directed = FALSE): could not find function \"erdos.renyi.game\"\nTraceback:\n"
     ]
    }
   ],
   "source": [
    "graph_er <- erdos.renyi.game(100, 0.03, directed = FALSE)\n",
    "print(V(graph_er))  # Wypisuje wierzchołki\n",
    "print(E(graph_er))  # Wypisuje krawędzie\n"
   ]
  },
  {
   "cell_type": "code",
   "execution_count": null,
   "id": "8bde976a-753a-4432-b860-a0021564da74",
   "metadata": {
    "vscode": {
     "languageId": "r"
    }
   },
   "outputs": [],
   "source": [
    "E(graph_er)$weight <- runif(ecount(graph_er), min = 0.01, max = 1)\n",
    "\n",
    "# (d) Obliczenie współczynnika grupowania każdego węzła\n",
    "cluster_coef <- transitivity(graph_er, type = \"local\")\n",
    "\n",
    "# Tworzenie histogramu współczynników grupowania\n",
    "hist(cluster_coef, main = \"Histogram współczynników grupowania\", xlab = \"Współczynnik grupowania\")\n",
    "\n",
    "# (e) Obliczenie liczby komponentów (connected components) w grafie\n",
    "num_components <- components(graph_er)$no\n",
    "\n",
    "# Wyświetlenie liczby komponentów\n",
    "print(paste(\"Liczba komponentów w grafie:\", num_components))\n",
    "\n",
    "# (f) Wizualizacja grafu z rozmiarem węzłów odpowiadającym stopniowi węzła\n",
    "plot(graph_er, vertex.size = degree(graph_er))"
   ]
  },
  {
   "cell_type": "code",
   "execution_count": null,
   "id": "c2f8a050-b472-463a-9b2b-8a85ac72dffb",
   "metadata": {
    "vscode": {
     "languageId": "r"
    }
   },
   "outputs": [],
   "source": []
  },
  {
   "cell_type": "code",
   "execution_count": null,
   "id": "0d64f457-f0de-44a5-b487-73c097337a6f",
   "metadata": {
    "vscode": {
     "languageId": "r"
    }
   },
   "outputs": [],
   "source": []
  }
 ],
 "metadata": {
  "kernelspec": {
   "display_name": "R",
   "language": "R",
   "name": "ir"
  },
  "language_info": {
   "codemirror_mode": "r",
   "file_extension": ".r",
   "mimetype": "text/x-r-source",
   "name": "R",
   "pygments_lexer": "r",
   "version": "4.3.2"
  }
 },
 "nbformat": 4,
 "nbformat_minor": 5
}
